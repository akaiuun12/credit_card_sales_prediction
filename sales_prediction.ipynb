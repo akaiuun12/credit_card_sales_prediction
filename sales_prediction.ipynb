{
 "cells": [
  {
   "cell_type": "markdown",
   "metadata": {},
   "source": [
    "# Daily Credit Card Sales Prediction\n",
    "\n",
    "Data Source: NH Card (2020~2024.2Q)\n",
    "\n",
    "이 과제는 KDX 한국데이터거래소에서 제공하는 데이터를 활용하여 서울 지역 일별 카드 소비현황을 예측한다.\n",
    "\n",
    "실제 업무 환경에서는 DW 및 Hadoop에서 SQL을 사용해 데이터를 추출하는 것부터 시작한다. 그러나 해당 데이터를 사용할 수 없어 KDX 한국데이터거래소를 통해 제공되는 NH농협카드의 일별 소비 데이터를 사용한다."
   ]
  },
  {
   "cell_type": "markdown",
   "metadata": {},
   "source": [
    "## 환경 설정"
   ]
  },
  {
   "cell_type": "code",
   "execution_count": 1,
   "metadata": {},
   "outputs": [],
   "source": [
    "# %% 0. Environment Settings\n",
    "import numpy as np\n",
    "import pandas as pd\n",
    "import seaborn as sns\n",
    "import matplotlib as mpl\n",
    "import matplotlib.pyplot as plt\n",
    "\n",
    "plt.style.use('ggplot')\n",
    "\n",
    "plt.rc('font', family='Malgun Gothic')\n",
    "# plt.rc('font', family='AppleGothic')\n",
    "plt.rc('axes', unicode_minus=False)"
   ]
  },
  {
   "cell_type": "markdown",
   "metadata": {},
   "source": [
    "## 데이터 로드"
   ]
  },
  {
   "cell_type": "markdown",
   "metadata": {},
   "source": [
    "데이터는 2020년 1월부터 2024년 6월까지의 일별 소비 데이터를 포함한다. 각 월별 CSV 파일로 제공되며 데이터를 하나의 DataFrame으로 통합한다.\n",
    "\n",
    "* 훈련 데이터: 2020.01 ~ 2023.12\n",
    "* 검증 데이터: 2024.01 ~ 2024.06"
   ]
  },
  {
   "cell_type": "code",
   "execution_count": 8,
   "metadata": {},
   "outputs": [
    {
     "name": "stdout",
     "output_type": "stream",
     "text": [
      "(1643, 8)\n",
      "   시도      승인일자  이용건수_전체  이용금액_전체  이용건수_개인  이용금액_개인  이용건수_법인  이용금액_법인\n",
      "0  서울  20200101   1827.0  48116.0   1770.0  45654.0     57.0   2462.0\n",
      "1  서울  20200102   2071.0  78042.0   1932.0  66654.0    139.0  11388.0\n",
      "2  서울  20200103   2140.0  77224.0   1995.0  64302.0    144.0  12922.0\n",
      "3  서울  20200104   1969.0  55070.0   1891.0  51702.0     78.0   3369.0\n",
      "4  서울  20200105   1711.0  46359.0   1649.0  43796.0     62.0   2563.0\n"
     ]
    }
   ],
   "source": [
    "# Data Source: KDX Data - [NH농협카드] 일자별 소비현황_서울\n",
    "df = pd.DataFrame()\n",
    "\n",
    "bas_ym = pd.date_range(start='20200101', end='20240630', freq='MS').strftime('%Y%m').tolist()\n",
    "\n",
    "for i, var in enumerate(bas_ym):\n",
    "    data_path = f'data/[NH농협카드] 일자별 소비현황_서울_{var}.csv'\n",
    "    \n",
    "    encodings = ['utf-8-sig', 'euc-kr', 'cp949']\n",
    "    for encoding in encodings:\n",
    "        try:\n",
    "            tmp_df = pd.read_csv(data_path, encoding=encoding)\n",
    "            break\n",
    "        except UnicodeDecodeError:\n",
    "            continue\n",
    "    else:\n",
    "        raise ValueError(f\"Failed to read {data_path} with available encodings.\")\n",
    "    \n",
    "    df = pd.concat([df, tmp_df], axis=0)\n",
    "    \n",
    "print(df.shape)\n",
    "print(df.head())\n"
   ]
  },
  {
   "cell_type": "markdown",
   "metadata": {},
   "source": [
    "동일 출처의 자료여도 인코딩 포맷이 달랐다. (중간에 담당자가 변경된 것일까?) 따라서 'utf-8-sig', 'euc-kr', 'cp949' 다양한 인코딩을 시도했다."
   ]
  },
  {
   "cell_type": "code",
   "execution_count": 9,
   "metadata": {},
   "outputs": [
    {
     "name": "stdout",
     "output_type": "stream",
     "text": [
      "시도               0\n",
      "승인일자             0\n",
      "이용건수_전체          0\n",
      "이용금액_전체          0\n",
      "이용건수_개인          0\n",
      "이용금액_개인          0\n",
      "이용건수_법인          0\n",
      "이용금액_법인          0\n",
      "date             0\n",
      "year             0\n",
      "month            0\n",
      "day              0\n",
      "dayofweek        0\n",
      "avg_sales        0\n",
      "avg_sales_psn    0\n",
      "avg_sales_cor    0\n",
      "dayname          0\n",
      "weekend          0\n",
      "dtype: int64\n",
      "(1461, 18) (182, 18)\n"
     ]
    }
   ],
   "source": [
    "# Type Conversion (int64 -> datetime64)\n",
    "df['date'] = pd.to_datetime(df['승인일자'], format='%Y%m%d')\n",
    "\n",
    "# Decimal Point Handling\n",
    "df['이용금액_전체'] = df['이용금액_전체'] / 100\n",
    "df['이용금액_개인'] = df['이용금액_개인'] / 100\n",
    "df['이용금액_법인'] = df['이용금액_법인'] / 100\n",
    "\n",
    "# Derived Variables\n",
    "df['year'] = df['date'].dt.year\n",
    "df['month'] = df['date'].dt.month\n",
    "df['day'] = df['date'].dt.day\n",
    "df['dayofweek'] = df['date'].dt.dayofweek\n",
    "\n",
    "df['avg_sales'] = df['이용금액_전체'] * 1000000 / df['이용건수_전체'] / 1000\n",
    "df['avg_sales_psn'] = df['이용금액_개인'] * 1000000 / df['이용건수_개인'] / 1000\n",
    "df['avg_sales_cor'] = df['이용금액_법인'] * 1000000 / df['이용건수_법인'] / 1000\n",
    "\n",
    "# Nominal to Ordinal Variable\n",
    "df['dayname'] = pd.Categorical(df['date'].dt.day_name(), \n",
    "                               categories=['Monday', 'Tuesday', 'Wednesday','Thursday', 'Friday', 'Saturday', 'Sunday'],\n",
    "                               ordered=True)\n",
    "\n",
    "# Add weekend variable\n",
    "df['weekend'] = df['dayname'].isin(['Saturday', 'Sunday'])\n",
    "\n",
    "# Nullity Check\n",
    "print(df.isna().sum())\n",
    "\n",
    "# Train-Test Split\n",
    "df_train = df[df['year'] != 2024]\n",
    "df_test = df[df['year'] == 2024]\n",
    "\n",
    "print(df_train.shape, df_test.shape)\n",
    "\n",
    "# Reset Index\n",
    "df.reset_index(drop=True, inplace=True)"
   ]
  },
  {
   "cell_type": "markdown",
   "metadata": {},
   "source": [
    "* 주요 독립변수: 년(year), 월(month), 일(day), 요일(dayofweek)\n",
    "\n",
    "신용카드 결제는 "
   ]
  },
  {
   "cell_type": "code",
   "execution_count": null,
   "metadata": {},
   "outputs": [
    {
     "name": "stdout",
     "output_type": "stream",
     "text": [
      "(1168, 5) (1168, 4)\n",
      "(293, 5) (293, 4)\n"
     ]
    }
   ],
   "source": [
    "from sklearn.model_selection import train_test_split\n",
    "\n",
    "# 4-1. Train-Validation Split\n",
    "ind_vars = ['승인일자', 'year', 'month', 'day', 'dayofweek']\n",
    "dep_vars = ['이용건수_개인', '이용건수_법인', '이용금액_개인', '이용금액_법인']\n",
    "\n",
    "X = df[df['year'] != 2024][ind_vars]\n",
    "y = df[df['year'] != 2024][dep_vars]\n",
    "\n",
    "X_train, X_valid, y_train, y_valid = train_test_split(X, y,\n",
    "                                                      test_size=0.2, \n",
    "                                                      random_state=42\n",
    "                                                      )\n",
    "print(X_train.shape, y_train.shape)\n",
    "print(X_valid.shape, y_valid.shape)\n"
   ]
  },
  {
   "cell_type": "code",
   "execution_count": null,
   "metadata": {},
   "outputs": [
    {
     "name": "stderr",
     "output_type": "stream",
     "text": [
      "c:\\Users\\Red\\miniconda3\\envs\\dl\\lib\\site-packages\\joblib\\externals\\loky\\backend\\context.py:152: UserWarning: Could not find the number of physical cores for the following reason:\n",
      "__init__() got an unexpected keyword argument 'capture_output'\n",
      "Returning the number of logical cores instead. You can silence this warning by setting LOKY_MAX_CPU_COUNT to the number of cores you want to use.\n",
      "  \"following reason:\\n\" + str(exception) + \"\\n\"\n",
      "  File \"c:\\Users\\Red\\miniconda3\\envs\\dl\\lib\\site-packages\\joblib\\externals\\loky\\backend\\context.py\", line 229, in _count_physical_cores\n",
      "    capture_output=True)\n",
      "  File \"c:\\Users\\Red\\miniconda3\\envs\\dl\\lib\\subprocess.py\", line 423, in run\n",
      "    with Popen(*popenargs, **kwargs) as process:\n"
     ]
    },
    {
     "name": "stdout",
     "output_type": "stream",
     "text": [
      "[LightGBM] [Info] Auto-choosing row-wise multi-threading, the overhead of testing was 0.000460 seconds.\n",
      "You can set `force_row_wise=true` to remove the overhead.\n",
      "And if memory is not enough, you can set `force_col_wise=true`.\n",
      "[LightGBM] [Info] Total Bins 312\n",
      "[LightGBM] [Info] Number of data points in the train set: 1168, number of used features: 5\n",
      "[LightGBM] [Info] Start training from score 738.366739\n",
      "MSE (RandomForest): 13813.88\n",
      "MSE (XGBoost): 11969.03\n",
      "MSE (LightGBM): 9832.48\n"
     ]
    }
   ],
   "source": [
    "# %% 4. Regression Model Specification\n",
    "from sklearn.model_selection import train_test_split\n",
    "from sklearn.ensemble import RandomForestRegressor\n",
    "from xgboost import XGBRegressor\n",
    "from lightgbm import LGBMRegressor\n",
    "\n",
    "# 4-2. Machine Learning (RandomForest, XGBoost, LightGBM)\n",
    "dep_var = '이용금액_개인'\n",
    "\n",
    "model_rf = RandomForestRegressor(n_estimators=1000,\n",
    "                                max_depth=20,\n",
    "                                random_state=42)\n",
    "model_rf.fit(X_train, y_train[dep_var])\n",
    "\n",
    "model_xgb = XGBRegressor(random_state=42)\n",
    "model_xgb.fit(X_train, y_train[dep_var]) \n",
    "\n",
    "model_lgbm = LGBMRegressor(random_state=42)\n",
    "model_lgbm.fit(X_train, y_train[dep_var])\n",
    "\n",
    "\n",
    "# 4-3. Model Comparison\n",
    "from sklearn.metrics import mean_squared_error\n",
    "\n",
    "y_sample = y_valid[dep_var]\n",
    "\n",
    "y_pred_rf = model_rf.predict(X_valid)\n",
    "mse_rf = mean_squared_error(y_pred_rf, y_sample)\n",
    "print(f'MSE (RandomForest): {mse_rf:.2f}')\n",
    "\n",
    "y_pred_xgb = model_xgb.predict(X_valid)\n",
    "mse_xgb = mean_squared_error(y_pred_xgb, y_sample)\n",
    "print(f'MSE (XGBoost): {mse_xgb:.2f}')\n",
    "\n",
    "y_pred_lgbm = model_lgbm.predict(X_valid)\n",
    "mse_lgbm = mean_squared_error(y_pred_lgbm, y_sample)\n",
    "print(f'MSE (LightGBM): {mse_lgbm:.2f}')"
   ]
  },
  {
   "cell_type": "code",
   "execution_count": null,
   "metadata": {},
   "outputs": [],
   "source": []
  },
  {
   "cell_type": "code",
   "execution_count": null,
   "metadata": {},
   "outputs": [],
   "source": []
  }
 ],
 "metadata": {
  "kernelspec": {
   "display_name": "dl",
   "language": "python",
   "name": "python3"
  },
  "language_info": {
   "codemirror_mode": {
    "name": "ipython",
    "version": 3
   },
   "file_extension": ".py",
   "mimetype": "text/x-python",
   "name": "python",
   "nbconvert_exporter": "python",
   "pygments_lexer": "ipython3",
   "version": "3.6.13"
  }
 },
 "nbformat": 4,
 "nbformat_minor": 2
}
